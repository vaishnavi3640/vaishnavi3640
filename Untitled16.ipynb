{
 "cells": [
  {
   "cell_type": "code",
   "execution_count": 2,
   "id": "fdd25b0d-5298-436c-aea3-0179d0a130fc",
   "metadata": {},
   "outputs": [],
   "source": [
    "a=2                                                                         "
   ]
  },
  {
   "cell_type": "code",
   "execution_count": 11,
   "id": "330672ac-59d9-4725-ab49-11a6ad05a97c",
   "metadata": {},
   "outputs": [
    {
     "name": "stdout",
     "output_type": "stream",
     "text": [
      "2\n"
     ]
    }
   ],
   "source": [
    "# library function or inbuilt function\n",
    "print(a)"
   ]
  },
  {
   "cell_type": "code",
   "execution_count": 8,
   "id": "24df4f04-ebf5-47d0-9590-75ca781b8bdd",
   "metadata": {},
   "outputs": [
    {
     "name": "stdout",
     "output_type": "stream",
     "text": [
      "shivraj gadge\n"
     ]
    }
   ],
   "source": [
    "print(\"shivraj gadge\")"
   ]
  },
  {
   "cell_type": "code",
   "execution_count": 9,
   "id": "c1c5918c-5fa8-4f64-8e9e-8adf200d45d4",
   "metadata": {},
   "outputs": [],
   "source": [
    "name=\"shivraj gadge\""
   ]
  },
  {
   "cell_type": "code",
   "execution_count": 10,
   "id": "255157c0-4560-42ac-ae5f-95f758937e57",
   "metadata": {},
   "outputs": [
    {
     "name": "stdout",
     "output_type": "stream",
     "text": [
      "shivraj gadge\n"
     ]
    }
   ],
   "source": [
    "print(name)"
   ]
  },
  {
   "cell_type": "code",
   "execution_count": 12,
   "id": "717b9a15-ddc0-4a2f-a6aa-0ea8e2d9afec",
   "metadata": {},
   "outputs": [
    {
     "data": {
      "text/plain": [
       "'shivraj gadge'"
      ]
     },
     "execution_count": 12,
     "metadata": {},
     "output_type": "execute_result"
    }
   ],
   "source": [
    "name"
   ]
  },
  {
   "cell_type": "code",
   "execution_count": 16,
   "id": "4088718e-401b-4136-bd04-389dbe7a9d20",
   "metadata": {},
   "outputs": [],
   "source": [
    "a,b,c = 5,4,7"
   ]
  },
  {
   "cell_type": "code",
   "execution_count": 17,
   "id": "8740abaf-3b38-4e33-b83f-a6a1da180d45",
   "metadata": {},
   "outputs": [],
   "source": [
    "a = b =c =7"
   ]
  },
  {
   "cell_type": "code",
   "execution_count": 18,
   "id": "99cbd0d2-2de6-4873-addc-546da17858b2",
   "metadata": {},
   "outputs": [
    {
     "name": "stdout",
     "output_type": "stream",
     "text": [
      "7 7 7\n"
     ]
    }
   ],
   "source": [
    "print(a,b,c)"
   ]
  },
  {
   "cell_type": "code",
   "execution_count": 21,
   "id": "fbd99e7a-9f94-497d-a8ea-f1e41c879419",
   "metadata": {},
   "outputs": [
    {
     "ename": "SyntaxError",
     "evalue": "invalid syntax (342871659.py, line 1)",
     "output_type": "error",
     "traceback": [
      "\u001b[0;36m  Cell \u001b[0;32mIn[21], line 1\u001b[0;36m\u001b[0m\n\u001b[0;31m    o/p-->7,7,7\\\\\\\\\\\u001b[0m\n\u001b[0m        ^\u001b[0m\n\u001b[0;31mSyntaxError\u001b[0m\u001b[0;31m:\u001b[0m invalid syntax\n"
     ]
    }
   ],
   "source": [
    "o/p-->7,7,7\\\\\\\\\\"
   ]
  },
  {
   "cell_type": "code",
   "execution_count": 26,
   "id": "d9fc2cd4-271f-4b6c-ac64-64b391c04d9f",
   "metadata": {},
   "outputs": [
    {
     "name": "stdout",
     "output_type": "stream",
     "text": [
      "7,7,7\n"
     ]
    }
   ],
   "source": [
    "print(a,b,c,sep=',') "
   ]
  },
  {
   "cell_type": "code",
   "execution_count": 27,
   "id": "eda890ff-b483-4c44-9dcf-a7a0ce2b0f01",
   "metadata": {},
   "outputs": [
    {
     "name": "stdout",
     "output_type": "stream",
     "text": [
      "7@7@7\n"
     ]
    }
   ],
   "source": [
    "print(a,b,c,sep='@')"
   ]
  },
  {
   "cell_type": "code",
   "execution_count": 29,
   "id": "d94c92e6-fc19-4977-bf66-3164587f2967",
   "metadata": {},
   "outputs": [
    {
     "name": "stdout",
     "output_type": "stream",
     "text": [
      "45 67 89\n"
     ]
    }
   ],
   "source": [
    "print(45,67,89, sep=\" \")"
   ]
  },
  {
   "cell_type": "code",
   "execution_count": 38,
   "id": "f8619235-eb8e-4541-907f-90c5b1c72842",
   "metadata": {},
   "outputs": [
    {
     "name": "stdout",
     "output_type": "stream",
     "text": [
      "shivraj gadge\tvaishnavi sharma\n",
      "vaishnavi sharma\n"
     ]
    }
   ],
   "source": [
    "print ('shivraj gadge',end='\\t')\n",
    "print (\"vaishnavi sharma\")\n",
    "print(\"vaishnavi sharma\")"
   ]
  },
  {
   "cell_type": "code",
   "execution_count": 39,
   "id": "6897145a-aa2f-439d-9e21-37f6ed296fb1",
   "metadata": {},
   "outputs": [
    {
     "name": "stdout",
     "output_type": "stream",
     "text": [
      "Enter Two Nos.\n"
     ]
    },
    {
     "name": "stdin",
     "output_type": "stream",
     "text": [
      "input the value of a 45\n",
      "input the value of b 78\n"
     ]
    },
    {
     "name": "stdout",
     "output_type": "stream",
     "text": [
      "123\n"
     ]
    }
   ],
   "source": [
    "#write code to add 2 nos.\n",
    "print(\"Enter Two Nos.\")\n",
    "a=int(input(\"input the value of a\"))\n",
    "b=int(input(\"input the value of b\"))\n",
    "c=a+b\n",
    "print(c)"
   ]
  },
  {
   "cell_type": "code",
   "execution_count": null,
   "id": "fdf3557b-408c-4efd-99e1-b377515f16c1",
   "metadata": {},
   "outputs": [],
   "source": []
  }
 ],
 "metadata": {
  "kernelspec": {
   "display_name": "Python 3 (ipykernel)",
   "language": "python",
   "name": "python3"
  },
  "language_info": {
   "codemirror_mode": {
    "name": "ipython",
    "version": 3
   },
   "file_extension": ".py",
   "mimetype": "text/x-python",
   "name": "python",
   "nbconvert_exporter": "python",
   "pygments_lexer": "ipython3",
   "version": "3.12.4"
  }
 },
 "nbformat": 4,
 "nbformat_minor": 5
}
