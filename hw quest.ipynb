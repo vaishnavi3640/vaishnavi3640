{
 "cells": [
  {
   "cell_type": "code",
   "execution_count": 1,
   "id": "9cba50d9-7ecf-40f2-b8d9-1ea5c6cd4b50",
   "metadata": {},
   "outputs": [],
   "source": [
    "s= \"this is My First Python programming class and i am learNING python string and its function\""
   ]
  },
  {
   "cell_type": "code",
   "execution_count": 2,
   "id": "5548830b-e2a6-4286-a06e-3b5f72469a99",
   "metadata": {},
   "outputs": [
    {
     "data": {
      "text/plain": [
       "'this is My First Python programming class and i am learNING python string and its function'"
      ]
     },
     "execution_count": 2,
     "metadata": {},
     "output_type": "execute_result"
    }
   ],
   "source": [
    "s"
   ]
  },
  {
   "cell_type": "markdown",
   "id": "f84e70fc-0ef2-4b16-b5da-04dbd50ec29a",
   "metadata": {},
   "source": [
    "# 1.Try to extract data from index1 to index 300 with a jump of 3"
   ]
  },
  {
   "cell_type": "code",
   "execution_count": 3,
   "id": "54680c12-a9fb-4458-8688-3d545e37b9af",
   "metadata": {},
   "outputs": [
    {
     "data": {
      "text/plain": [
       "'h   r tnrrmglsnimeNGyosi dtfco'"
      ]
     },
     "execution_count": 3,
     "metadata": {},
     "output_type": "execute_result"
    }
   ],
   "source": [
    "s[1:301:3]"
   ]
  },
  {
   "cell_type": "markdown",
   "id": "53cfa470-4177-4624-9a42-d50bf6d3ebab",
   "metadata": {},
   "source": [
    "# 2.Try to rverse the string without using reverse function"
   ]
  },
  {
   "cell_type": "code",
   "execution_count": 4,
   "id": "6f172071-33fc-4574-ab27-0b0073f1fdf6",
   "metadata": {},
   "outputs": [
    {
     "data": {
      "text/plain": [
       "'noitcnuf sti dna gnirts nohtyp GNINrael ma i dna ssalc gnimmargorp nohtyP tsriF yM si siht'"
      ]
     },
     "execution_count": 4,
     "metadata": {},
     "output_type": "execute_result"
    }
   ],
   "source": [
    "s[ : :-1]"
   ]
  },
  {
   "cell_type": "markdown",
   "id": "642f7b5e-e906-453a-9534-af68f54cdd65",
   "metadata": {},
   "source": [
    "# 3.Try to split a string after conversion of entire string in uppercase"
   ]
  },
  {
   "cell_type": "code",
   "execution_count": 16,
   "id": "e87b769d-2094-4740-9b13-bfcd286a126e",
   "metadata": {},
   "outputs": [],
   "source": [
    "s1 = s.upper()"
   ]
  },
  {
   "cell_type": "code",
   "execution_count": 7,
   "id": "4534c463-8810-4f35-be12-69ab98ec1898",
   "metadata": {},
   "outputs": [
    {
     "data": {
      "text/plain": [
       "'THIS IS MY FIRST PYTHON PROGRAMMING CLASS AND I AM LEARNING PYTHON STRING AND ITS FUNCTION'"
      ]
     },
     "execution_count": 7,
     "metadata": {},
     "output_type": "execute_result"
    }
   ],
   "source": [
    "s1"
   ]
  },
  {
   "cell_type": "code",
   "execution_count": 18,
   "id": "db567505-d5a0-4f80-92fd-e50c461e3d27",
   "metadata": {},
   "outputs": [
    {
     "data": {
      "text/plain": [
       "['THIS',\n",
       " 'IS',\n",
       " 'MY',\n",
       " 'FIRST',\n",
       " 'PYTHON',\n",
       " 'PROGRAMMING',\n",
       " 'CLASS',\n",
       " 'AND',\n",
       " 'I',\n",
       " 'AM',\n",
       " 'LEARNING',\n",
       " 'PYTHON',\n",
       " 'STRING',\n",
       " 'AND',\n",
       " 'ITS',\n",
       " 'FUNCTION']"
      ]
     },
     "execution_count": 18,
     "metadata": {},
     "output_type": "execute_result"
    }
   ],
   "source": [
    "s.split()"
   ]
  },
  {
   "cell_type": "markdown",
   "id": "d3af2c6c-f710-40c6-9f4a-96a032e775f1",
   "metadata": {},
   "source": [
    "# 4.Try to convert whole string into lowercase"
   ]
  },
  {
   "cell_type": "code",
   "execution_count": 8,
   "id": "4b1129e1-d5cd-4e92-8575-d1d6e370e019",
   "metadata": {},
   "outputs": [
    {
     "data": {
      "text/plain": [
       "'this is my first python programming class and i am learning python string and its function'"
      ]
     },
     "execution_count": 8,
     "metadata": {},
     "output_type": "execute_result"
    }
   ],
   "source": [
    "s.lower()"
   ]
  },
  {
   "cell_type": "markdown",
   "id": "d229a3a5-b463-452a-a2b3-88a5268dfbcc",
   "metadata": {},
   "source": [
    "# 5.Try to capitalize the whole string"
   ]
  },
  {
   "cell_type": "code",
   "execution_count": 9,
   "id": "d8d389b8-e8c0-46ca-a0e4-0a3305028aee",
   "metadata": {},
   "outputs": [
    {
     "data": {
      "text/plain": [
       "'This is my first python programming class and i am learning python string and its function'"
      ]
     },
     "execution_count": 9,
     "metadata": {},
     "output_type": "execute_result"
    }
   ],
   "source": [
    "s.capitalize()"
   ]
  },
  {
   "cell_type": "markdown",
   "id": "16dac31d-e533-4772-86c7-17c257affa06",
   "metadata": {},
   "source": [
    "# 6.Write  a difference between isalnum() and isalpha()"
   ]
  },
  {
   "cell_type": "code",
   "execution_count": 10,
   "id": "c3d09e8a-5579-488e-91de-d1772064a3f5",
   "metadata": {},
   "outputs": [
    {
     "data": {
      "text/plain": [
       "False"
      ]
     },
     "execution_count": 10,
     "metadata": {},
     "output_type": "execute_result"
    }
   ],
   "source": [
    "s.isalnum()"
   ]
  },
  {
   "cell_type": "code",
   "execution_count": 12,
   "id": "54f6c596-2fa8-4ee3-80e1-fbd4270461e6",
   "metadata": {},
   "outputs": [
    {
     "data": {
      "text/plain": [
       "False"
      ]
     },
     "execution_count": 12,
     "metadata": {},
     "output_type": "execute_result"
    }
   ],
   "source": [
    "s.isalpha()"
   ]
  },
  {
   "cell_type": "code",
   "execution_count": 13,
   "id": "2d055ac2-530f-4153-9f07-ac1efde8a584",
   "metadata": {},
   "outputs": [],
   "source": [
    "a=\"ADITYA\""
   ]
  },
  {
   "cell_type": "code",
   "execution_count": 14,
   "id": "dcd9d379-759a-4f9e-b095-994a81a73dfa",
   "metadata": {},
   "outputs": [
    {
     "data": {
      "text/plain": [
       "'ADITYA'"
      ]
     },
     "execution_count": 14,
     "metadata": {},
     "output_type": "execute_result"
    }
   ],
   "source": [
    "a"
   ]
  },
  {
   "cell_type": "code",
   "execution_count": 15,
   "id": "c509a05e-9828-4f8c-ae54-5263481707a7",
   "metadata": {},
   "outputs": [
    {
     "data": {
      "text/plain": [
       "True"
      ]
     },
     "execution_count": 15,
     "metadata": {},
     "output_type": "execute_result"
    }
   ],
   "source": [
    "a.isalpha()"
   ]
  },
  {
   "cell_type": "code",
   "execution_count": 16,
   "id": "869ab280-a32f-44f2-b97f-09343b9f2604",
   "metadata": {},
   "outputs": [
    {
     "data": {
      "text/plain": [
       "True"
      ]
     },
     "execution_count": 16,
     "metadata": {},
     "output_type": "execute_result"
    }
   ],
   "source": [
    "a.isalnum()"
   ]
  },
  {
   "cell_type": "code",
   "execution_count": null,
   "id": "ae34b096-f073-4dbe-ae15-025d56f747a2",
   "metadata": {},
   "outputs": [],
   "source": [
    "# explaination: isalpha = Return True if the string is an alphabetic string, False otherwise.\n",
    "#         isalnum= Return True if the string is an alpha-numeric string, False otherwise."
   ]
  },
  {
   "cell_type": "markdown",
   "id": "108ecdca-81cf-4816-8f6c-8346283b28d6",
   "metadata": {},
   "source": [
    "# 7.Try to give example of expand tab"
   ]
  },
  {
   "cell_type": "code",
   "execution_count": 26,
   "id": "f19f8539-b215-4064-907b-7ee1308c6f22",
   "metadata": {},
   "outputs": [],
   "source": [
    "m = \"whats\\tup\\tfam\\tbruh\""
   ]
  },
  {
   "cell_type": "code",
   "execution_count": 27,
   "id": "1d3ec850-60a6-444c-a19f-2050c5aa58e8",
   "metadata": {},
   "outputs": [
    {
     "data": {
      "text/plain": [
       "'whats   up      fam     bruh'"
      ]
     },
     "execution_count": 27,
     "metadata": {},
     "output_type": "execute_result"
    }
   ],
   "source": [
    "m.expandtabs()"
   ]
  },
  {
   "cell_type": "markdown",
   "id": "e44c6274-8a5c-4f7a-8194-12f7c8db6de9",
   "metadata": {},
   "source": [
    "# 8.Give example strip, lstrip, and rstrip"
   ]
  },
  {
   "cell_type": "code",
   "execution_count": 21,
   "id": "438220be-7669-4f36-a471-a9ada4d60f21",
   "metadata": {},
   "outputs": [],
   "source": [
    "x = \"             hello world             \""
   ]
  },
  {
   "cell_type": "code",
   "execution_count": 22,
   "id": "fca5855a-f18f-407a-9dd3-e606f6055992",
   "metadata": {},
   "outputs": [
    {
     "data": {
      "text/plain": [
       "'             hello world             '"
      ]
     },
     "execution_count": 22,
     "metadata": {},
     "output_type": "execute_result"
    }
   ],
   "source": [
    "x"
   ]
  },
  {
   "cell_type": "code",
   "execution_count": 23,
   "id": "38684f64-1b0d-4ca9-8e5c-b7dd16edf87f",
   "metadata": {},
   "outputs": [
    {
     "data": {
      "text/plain": [
       "'hello world'"
      ]
     },
     "execution_count": 23,
     "metadata": {},
     "output_type": "execute_result"
    }
   ],
   "source": [
    "x.strip()"
   ]
  },
  {
   "cell_type": "code",
   "execution_count": 24,
   "id": "84d6d9ad-ffa4-4c76-8deb-c4d422f3a986",
   "metadata": {},
   "outputs": [
    {
     "data": {
      "text/plain": [
       "'hello world             '"
      ]
     },
     "execution_count": 24,
     "metadata": {},
     "output_type": "execute_result"
    }
   ],
   "source": [
    "x.lstrip()"
   ]
  },
  {
   "cell_type": "code",
   "execution_count": 25,
   "id": "47ed7c88-e6c5-4c2d-a11a-a1fa04334610",
   "metadata": {},
   "outputs": [
    {
     "data": {
      "text/plain": [
       "'             hello world'"
      ]
     },
     "execution_count": 25,
     "metadata": {},
     "output_type": "execute_result"
    }
   ],
   "source": [
    "x.rstrip()"
   ]
  },
  {
   "cell_type": "markdown",
   "id": "172953d0-64bc-4045-ba73-7e1c3857ace8",
   "metadata": {},
   "source": [
    "# 9.Replace a string character by another character by taking your own example \"Your Name\""
   ]
  },
  {
   "cell_type": "code",
   "execution_count": null,
   "id": "c42a4738-086f-49c1-9053-db80af1ce147",
   "metadata": {},
   "outputs": [],
   "source": []
  }
 ],
 "metadata": {
  "kernelspec": {
   "display_name": "Python 3 (ipykernel)",
   "language": "python",
   "name": "python3"
  },
  "language_info": {
   "codemirror_mode": {
    "name": "ipython",
    "version": 3
   },
   "file_extension": ".py",
   "mimetype": "text/x-python",
   "name": "python",
   "nbconvert_exporter": "python",
   "pygments_lexer": "ipython3",
   "version": "3.12.4"
  }
 },
 "nbformat": 4,
 "nbformat_minor": 5
}
